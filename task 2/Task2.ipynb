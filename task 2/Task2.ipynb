{
  "nbformat": 4,
  "nbformat_minor": 0,
  "metadata": {
    "colab": {
      "provenance": []
    },
    "kernelspec": {
      "name": "python3",
      "display_name": "Python 3"
    },
    "language_info": {
      "name": "python"
    }
  },
  "cells": [
    {
      "cell_type": "code",
      "source": [
        "# Cell 1: Install headless Chromium, chromedriver, and Python deps\n",
        "# Note: This works in Colab but requires time to install each session.\n",
        "# Run this cell first in your Colab notebook.\n",
        "\n",
        "# System packages (apt-get may take ~30-60s)\n",
        "!apt-get update -qq\n",
        "!apt-get install -y -qq chromium-browser chromium-chromedriver\n",
        "\n",
        "# Python packages\n",
        "!pip install -q selenium pytest pytest-html\n",
        "\n",
        "# Show versions to help debugging\n",
        "import sys, subprocess\n",
        "print(\"Python:\", sys.version.splitlines()[0])\n",
        "!chromium-browser --version\n",
        "!chromedriver --version\n",
        "import selenium\n",
        "print(\"Selenium version:\", selenium.__version__)\n"
      ],
      "metadata": {
        "colab": {
          "base_uri": "https://localhost:8080/"
        },
        "id": "CnHLHvaenxxP",
        "outputId": "4b39bd78-32d3-458e-af94-8bbe6aa5cfd0"
      },
      "execution_count": 4,
      "outputs": [
        {
          "output_type": "stream",
          "name": "stdout",
          "text": [
            "W: Skipping acquire of configured file 'main/source/Sources' as repository 'https://r2u.stat.illinois.edu/ubuntu jammy InRelease' does not seem to provide it (sources.list entry misspelt?)\n",
            "Preconfiguring packages ...\n",
            "Selecting previously unselected package apparmor.\n",
            "(Reading database ... 126675 files and directories currently installed.)\n",
            "Preparing to unpack .../apparmor_3.0.4-2ubuntu2.4_amd64.deb ...\n",
            "Unpacking apparmor (3.0.4-2ubuntu2.4) ...\n",
            "Selecting previously unselected package squashfs-tools.\n",
            "Preparing to unpack .../squashfs-tools_1%3a4.5-3build1_amd64.deb ...\n",
            "Unpacking squashfs-tools (1:4.5-3build1) ...\n",
            "Preparing to unpack .../libudev1_249.11-0ubuntu3.17_amd64.deb ...\n",
            "Unpacking libudev1:amd64 (249.11-0ubuntu3.17) over (249.11-0ubuntu3.12) ...\n",
            "Setting up libudev1:amd64 (249.11-0ubuntu3.17) ...\n",
            "Selecting previously unselected package udev.\n",
            "(Reading database ... 126875 files and directories currently installed.)\n",
            "Preparing to unpack .../udev_249.11-0ubuntu3.17_amd64.deb ...\n",
            "Unpacking udev (249.11-0ubuntu3.17) ...\n",
            "Selecting previously unselected package libfuse3-3:amd64.\n",
            "Preparing to unpack .../libfuse3-3_3.10.5-1build1_amd64.deb ...\n",
            "Unpacking libfuse3-3:amd64 (3.10.5-1build1) ...\n",
            "Selecting previously unselected package snapd.\n",
            "Preparing to unpack .../snapd_2.71+ubuntu22.04_amd64.deb ...\n",
            "Unpacking snapd (2.71+ubuntu22.04) ...\n",
            "Setting up apparmor (3.0.4-2ubuntu2.4) ...\n",
            "Created symlink /etc/systemd/system/sysinit.target.wants/apparmor.service → /lib/systemd/system/apparmor.service.\n",
            "Setting up squashfs-tools (1:4.5-3build1) ...\n",
            "Setting up udev (249.11-0ubuntu3.17) ...\n",
            "invoke-rc.d: could not determine current runlevel\n",
            "invoke-rc.d: policy-rc.d denied execution of start.\n",
            "Setting up libfuse3-3:amd64 (3.10.5-1build1) ...\n",
            "Setting up snapd (2.71+ubuntu22.04) ...\n",
            "Created symlink /etc/systemd/system/multi-user.target.wants/snapd.apparmor.service → /lib/systemd/system/snapd.apparmor.service.\n",
            "Created symlink /etc/systemd/system/multi-user.target.wants/snapd.autoimport.service → /lib/systemd/system/snapd.autoimport.service.\n",
            "Created symlink /etc/systemd/system/multi-user.target.wants/snapd.core-fixup.service → /lib/systemd/system/snapd.core-fixup.service.\n",
            "Created symlink /etc/systemd/system/multi-user.target.wants/snapd.recovery-chooser-trigger.service → /lib/systemd/system/snapd.recovery-chooser-trigger.service.\n",
            "Created symlink /etc/systemd/system/multi-user.target.wants/snapd.seeded.service → /lib/systemd/system/snapd.seeded.service.\n",
            "Created symlink /etc/systemd/system/cloud-final.service.wants/snapd.seeded.service → /lib/systemd/system/snapd.seeded.service.\n",
            "Unit /lib/systemd/system/snapd.seeded.service is added as a dependency to a non-existent unit cloud-final.service.\n",
            "Created symlink /etc/systemd/system/multi-user.target.wants/snapd.service → /lib/systemd/system/snapd.service.\n",
            "Created symlink /etc/systemd/system/timers.target.wants/snapd.snap-repair.timer → /lib/systemd/system/snapd.snap-repair.timer.\n",
            "Created symlink /etc/systemd/system/sockets.target.wants/snapd.socket → /lib/systemd/system/snapd.socket.\n",
            "Created symlink /etc/systemd/system/final.target.wants/snapd.system-shutdown.service → /lib/systemd/system/snapd.system-shutdown.service.\n",
            "Selecting previously unselected package chromium-browser.\n",
            "(Reading database ... 127105 files and directories currently installed.)\n",
            "Preparing to unpack .../chromium-browser_1%3a85.0.4183.83-0ubuntu2.22.04.1_amd64.deb ...\n",
            "=> Installing the chromium snap\n",
            "==> Checking connectivity with the snap store\n",
            "===> System doesn't have a working snapd, skipping\n",
            "Unpacking chromium-browser (1:85.0.4183.83-0ubuntu2.22.04.1) ...\n",
            "Selecting previously unselected package chromium-chromedriver.\n",
            "Preparing to unpack .../chromium-chromedriver_1%3a85.0.4183.83-0ubuntu2.22.04.1_amd64.deb ...\n",
            "Unpacking chromium-chromedriver (1:85.0.4183.83-0ubuntu2.22.04.1) ...\n",
            "Selecting previously unselected package systemd-hwe-hwdb.\n",
            "Preparing to unpack .../systemd-hwe-hwdb_249.11.6_all.deb ...\n",
            "Unpacking systemd-hwe-hwdb (249.11.6) ...\n",
            "Setting up systemd-hwe-hwdb (249.11.6) ...\n",
            "Setting up chromium-browser (1:85.0.4183.83-0ubuntu2.22.04.1) ...\n",
            "update-alternatives: using /usr/bin/chromium-browser to provide /usr/bin/x-www-browser (x-www-browser) in auto mode\n",
            "update-alternatives: using /usr/bin/chromium-browser to provide /usr/bin/gnome-www-browser (gnome-www-browser) in auto mode\n",
            "Setting up chromium-chromedriver (1:85.0.4183.83-0ubuntu2.22.04.1) ...\n",
            "Processing triggers for udev (249.11-0ubuntu3.17) ...\n",
            "Processing triggers for mailcap (3.70+nmu1ubuntu1) ...\n",
            "Processing triggers for hicolor-icon-theme (0.17-2) ...\n",
            "Processing triggers for libc-bin (2.35-0ubuntu3.8) ...\n",
            "/sbin/ldconfig.real: /usr/local/lib/libtbbbind_2_5.so.3 is not a symbolic link\n",
            "\n",
            "/sbin/ldconfig.real: /usr/local/lib/libur_adapter_level_zero.so.0 is not a symbolic link\n",
            "\n",
            "/sbin/ldconfig.real: /usr/local/lib/libtbbbind.so.3 is not a symbolic link\n",
            "\n",
            "/sbin/ldconfig.real: /usr/local/lib/libur_adapter_opencl.so.0 is not a symbolic link\n",
            "\n",
            "/sbin/ldconfig.real: /usr/local/lib/libtbbbind_2_0.so.3 is not a symbolic link\n",
            "\n",
            "/sbin/ldconfig.real: /usr/local/lib/libur_loader.so.0 is not a symbolic link\n",
            "\n",
            "/sbin/ldconfig.real: /usr/local/lib/libumf.so.0 is not a symbolic link\n",
            "\n",
            "/sbin/ldconfig.real: /usr/local/lib/libtbbmalloc.so.2 is not a symbolic link\n",
            "\n",
            "/sbin/ldconfig.real: /usr/local/lib/libtbb.so.12 is not a symbolic link\n",
            "\n",
            "/sbin/ldconfig.real: /usr/local/lib/libtcm_debug.so.1 is not a symbolic link\n",
            "\n",
            "/sbin/ldconfig.real: /usr/local/lib/libtbbmalloc_proxy.so.2 is not a symbolic link\n",
            "\n",
            "/sbin/ldconfig.real: /usr/local/lib/libtcm.so.1 is not a symbolic link\n",
            "\n",
            "/sbin/ldconfig.real: /usr/local/lib/libhwloc.so.15 is not a symbolic link\n",
            "\n",
            "/sbin/ldconfig.real: /usr/local/lib/libur_adapter_level_zero_v2.so.0 is not a symbolic link\n",
            "\n",
            "Processing triggers for man-db (2.10.2-1) ...\n",
            "Processing triggers for dbus (1.12.20-2ubuntu4.1) ...\n",
            "\u001b[2K   \u001b[90m━━━━━━━━━━━━━━━━━━━━━━━━━━━━━━━━━━━━━━━━\u001b[0m \u001b[32m9.7/9.7 MB\u001b[0m \u001b[31m67.2 MB/s\u001b[0m eta \u001b[36m0:00:00\u001b[0m\n",
            "\u001b[2K   \u001b[90m━━━━━━━━━━━━━━━━━━━━━━━━━━━━━━━━━━━━━━━━\u001b[0m \u001b[32m512.7/512.7 kB\u001b[0m \u001b[31m23.7 MB/s\u001b[0m eta \u001b[36m0:00:00\u001b[0m\n",
            "\u001b[?25hPython: 3.12.12 (main, Oct 10 2025, 08:52:57) [GCC 11.4.0]\n",
            "\n",
            "Command '/usr/bin/chromium-browser' requires the chromium snap to be installed.\n",
            "Please install it with:\n",
            "\n",
            "snap install chromium\n",
            "\n",
            "\n",
            "Command '/usr/bin/chromedriver' requires the chromium snap to be installed.\n",
            "Please install it with:\n",
            "\n",
            "snap install chromium\n",
            "\n",
            "Selenium version: 4.37.0\n"
          ]
        }
      ]
    },
    {
      "cell_type": "code",
      "source": [
        "# ✅ Cell 2: Create the test script file in Colab (practice site version)\n",
        "test_code = r\"\"\"\n",
        "import os\n",
        "import pytest\n",
        "from selenium import webdriver\n",
        "from selenium.webdriver.common.by import By\n",
        "from selenium.webdriver.chrome.options import Options\n",
        "from selenium.webdriver.support.ui import WebDriverWait\n",
        "from selenium.webdriver.support import expected_conditions as EC\n",
        "\n",
        "# ✅ Use the real login page for practice\n",
        "LOGIN_URL = \"https://practicetestautomation.com/practice-test-login/\"\n",
        "\n",
        "# ✅ Valid credentials for this demo site\n",
        "VALID_USERNAME = \"student\"\n",
        "VALID_PASSWORD = \"Password123\"\n",
        "INVALID_USERNAME = \"wronguser\"\n",
        "INVALID_PASSWORD = \"wrongpass\"\n",
        "\n",
        "@pytest.fixture(scope='module')\n",
        "def driver():\n",
        "    # Configure Chrome to run in headless mode (no UI)\n",
        "    chrome_options = Options()\n",
        "    chrome_options.add_argument(\"--headless\")\n",
        "    chrome_options.add_argument(\"--no-sandbox\")\n",
        "    chrome_options.add_argument(\"--disable-dev-shm-usage\")\n",
        "    chrome_options.binary_location = \"/usr/bin/chromium-browser\"\n",
        "\n",
        "    driver = webdriver.Chrome(options=chrome_options)\n",
        "    driver.implicitly_wait(5)\n",
        "    yield driver\n",
        "    driver.quit()\n",
        "\n",
        "def attempt_login(driver, username, password):\n",
        "    # Open the login page\n",
        "    driver.get(LOGIN_URL)\n",
        "\n",
        "    # Locate the username, password, and login button elements\n",
        "    username_field = driver.find_element(By.ID, \"username\")\n",
        "    password_field = driver.find_element(By.ID, \"password\")\n",
        "    login_button = driver.find_element(By.ID, \"submit\")\n",
        "\n",
        "    # Clear and input new credentials\n",
        "    username_field.clear()\n",
        "    username_field.send_keys(username)\n",
        "    password_field.clear()\n",
        "    password_field.send_keys(password)\n",
        "\n",
        "    # Click the login button\n",
        "    login_button.click()\n",
        "\n",
        "def test_valid_login(driver):\n",
        "    # Attempt login using valid credentials\n",
        "    attempt_login(driver, VALID_USERNAME, VALID_PASSWORD)\n",
        "\n",
        "    # Wait for success message\n",
        "    success_message = WebDriverWait(driver, 10).until(\n",
        "        EC.presence_of_element_located((By.XPATH, \"//h1[text()='Logged In Successfully']\"))\n",
        "    )\n",
        "\n",
        "    assert success_message.is_displayed(), \"Valid login failed!\"\n",
        "\n",
        "def test_invalid_login(driver):\n",
        "    # Attempt login using invalid credentials\n",
        "    attempt_login(driver, INVALID_USERNAME, INVALID_PASSWORD)\n",
        "\n",
        "    # Wait for error message\n",
        "    error_message = WebDriverWait(driver, 10).until(\n",
        "        EC.presence_of_element_located((By.ID, \"error\"))\n",
        "    )\n",
        "\n",
        "    assert error_message.is_displayed(), \"Error message not shown for invalid login!\"\n",
        "\"\"\"\n",
        "\n",
        "# ✅ Write the file into your Colab working directory\n",
        "with open(\"test_login.py\", \"w\") as f:\n",
        "    f.write(test_code)\n",
        "\n",
        "print(\"✅ Wrote test_login.py successfully — ready to run!\")\n"
      ],
      "metadata": {
        "colab": {
          "base_uri": "https://localhost:8080/"
        },
        "id": "jHYC6fMepUwQ",
        "outputId": "76ec9c6c-acc4-4f96-f8a6-38622a40ac06"
      },
      "execution_count": 13,
      "outputs": [
        {
          "output_type": "stream",
          "name": "stdout",
          "text": [
            "✅ Wrote test_login.py successfully — ready to run!\n"
          ]
        }
      ]
    },
    {
      "cell_type": "code",
      "source": [
        "# Cell 3: show the test file contents (so you can verify selectors)\n",
        "!sed -n '1,240p' test_login.py\n"
      ],
      "metadata": {
        "colab": {
          "base_uri": "https://localhost:8080/"
        },
        "id": "evKRSnTDpkzC",
        "outputId": "b1c51d10-23eb-43ba-e57b-4bef228abe5a"
      },
      "execution_count": 14,
      "outputs": [
        {
          "output_type": "stream",
          "name": "stdout",
          "text": [
            "\n",
            "import os\n",
            "import pytest\n",
            "from selenium import webdriver\n",
            "from selenium.webdriver.common.by import By\n",
            "from selenium.webdriver.chrome.options import Options\n",
            "from selenium.webdriver.support.ui import WebDriverWait\n",
            "from selenium.webdriver.support import expected_conditions as EC\n",
            "\n",
            "# ✅ Use the real login page for practice\n",
            "LOGIN_URL = \"https://practicetestautomation.com/practice-test-login/\"\n",
            "\n",
            "# ✅ Valid credentials for this demo site\n",
            "VALID_USERNAME = \"student\"\n",
            "VALID_PASSWORD = \"Password123\"\n",
            "INVALID_USERNAME = \"wronguser\"\n",
            "INVALID_PASSWORD = \"wrongpass\"\n",
            "\n",
            "@pytest.fixture(scope='module')\n",
            "def driver():\n",
            "    # Configure Chrome to run in headless mode (no UI)\n",
            "    chrome_options = Options()\n",
            "    chrome_options.add_argument(\"--headless\")\n",
            "    chrome_options.add_argument(\"--no-sandbox\")\n",
            "    chrome_options.add_argument(\"--disable-dev-shm-usage\")\n",
            "    chrome_options.binary_location = \"/usr/bin/chromium-browser\"\n",
            "\n",
            "    driver = webdriver.Chrome(options=chrome_options)\n",
            "    driver.implicitly_wait(5)\n",
            "    yield driver\n",
            "    driver.quit()\n",
            "\n",
            "def attempt_login(driver, username, password):\n",
            "    # Open the login page\n",
            "    driver.get(LOGIN_URL)\n",
            "\n",
            "    # Locate the username, password, and login button elements\n",
            "    username_field = driver.find_element(By.ID, \"username\")\n",
            "    password_field = driver.find_element(By.ID, \"password\")\n",
            "    login_button = driver.find_element(By.ID, \"submit\")\n",
            "\n",
            "    # Clear and input new credentials\n",
            "    username_field.clear()\n",
            "    username_field.send_keys(username)\n",
            "    password_field.clear()\n",
            "    password_field.send_keys(password)\n",
            "\n",
            "    # Click the login button\n",
            "    login_button.click()\n",
            "\n",
            "def test_valid_login(driver):\n",
            "    # Attempt login using valid credentials\n",
            "    attempt_login(driver, VALID_USERNAME, VALID_PASSWORD)\n",
            "\n",
            "    # Wait for success message\n",
            "    success_message = WebDriverWait(driver, 10).until(\n",
            "        EC.presence_of_element_located((By.XPATH, \"//h1[text()='Logged In Successfully']\"))\n",
            "    )\n",
            "\n",
            "    assert success_message.is_displayed(), \"Valid login failed!\"\n",
            "\n",
            "def test_invalid_login(driver):\n",
            "    # Attempt login using invalid credentials\n",
            "    attempt_login(driver, INVALID_USERNAME, INVALID_PASSWORD)\n",
            "\n",
            "    # Wait for error message\n",
            "    error_message = WebDriverWait(driver, 10).until(\n",
            "        EC.presence_of_element_located((By.ID, \"error\"))\n",
            "    )\n",
            "\n",
            "    assert error_message.is_displayed(), \"Error message not shown for invalid login!\"\n"
          ]
        }
      ]
    },
    {
      "cell_type": "code",
      "source": [
        "def test_invalid_login(driver):\n",
        "    # Attempt login using invalid credentials\n",
        "    attempt_login(driver, INVALID_USERNAME, INVALID_PASSWORD)\n",
        "\n",
        "    # Wait for the visible error message to appear\n",
        "    error_message = WebDriverWait(driver, 10).until(\n",
        "        EC.visibility_of_element_located((By.ID, \"error\"))\n",
        "    )\n",
        "\n",
        "    # Verify the correct error text is displayed\n",
        "    assert \"Your username is invalid!\" in error_message.text, \"Error message text not found!\"\n"
      ],
      "metadata": {
        "id": "zWvoZXYqqOd8"
      },
      "execution_count": 25,
      "outputs": []
    },
    {
      "cell_type": "code",
      "source": [
        "!pip install pytest-json-report\n"
      ],
      "metadata": {
        "colab": {
          "base_uri": "https://localhost:8080/"
        },
        "id": "SnRBBlK7vmUI",
        "outputId": "84d96cf2-ea5c-4254-fe10-dd7f9ed86f68"
      },
      "execution_count": 21,
      "outputs": [
        {
          "output_type": "stream",
          "name": "stdout",
          "text": [
            "Collecting pytest-json-report\n",
            "  Downloading pytest_json_report-1.5.0-py3-none-any.whl.metadata (15 kB)\n",
            "Requirement already satisfied: pytest>=3.8.0 in /usr/local/lib/python3.12/dist-packages (from pytest-json-report) (8.4.2)\n",
            "Requirement already satisfied: pytest-metadata in /usr/local/lib/python3.12/dist-packages (from pytest-json-report) (3.1.1)\n",
            "Requirement already satisfied: iniconfig>=1 in /usr/local/lib/python3.12/dist-packages (from pytest>=3.8.0->pytest-json-report) (2.3.0)\n",
            "Requirement already satisfied: packaging>=20 in /usr/local/lib/python3.12/dist-packages (from pytest>=3.8.0->pytest-json-report) (25.0)\n",
            "Requirement already satisfied: pluggy<2,>=1.5 in /usr/local/lib/python3.12/dist-packages (from pytest>=3.8.0->pytest-json-report) (1.6.0)\n",
            "Requirement already satisfied: pygments>=2.7.2 in /usr/local/lib/python3.12/dist-packages (from pytest>=3.8.0->pytest-json-report) (2.19.2)\n",
            "Downloading pytest_json_report-1.5.0-py3-none-any.whl (13 kB)\n",
            "Installing collected packages: pytest-json-report\n",
            "Successfully installed pytest-json-report-1.5.0\n"
          ]
        }
      ]
    },
    {
      "cell_type": "code",
      "source": [
        "# Cell 5: list files and offer download links\n",
        "!ls -la\n",
        "\n",
        "# If running inside Colab, you can use the files module to download or use the left Files panel.\n",
        "from google.colab import files\n",
        "if os.path.exists('report.html'):\n",
        "    print(\"Download report.html:\")\n",
        "    files.download('report.html')\n",
        "\n",
        "if os.path.exists('results.json'):\n",
        "    print(\"Download results.json:\")\n",
        "    files.download('results.json')\n"
      ],
      "metadata": {
        "colab": {
          "base_uri": "https://localhost:8080/",
          "height": 208
        },
        "id": "5tHPuTmoulfL",
        "outputId": "f69a1063-e162-4642-b749-4b95257932c8"
      },
      "execution_count": 19,
      "outputs": [
        {
          "output_type": "stream",
          "name": "stdout",
          "text": [
            "total 68\n",
            "drwxr-xr-x 1 root root  4096 Oct 24 14:39 .\n",
            "drwxr-xr-x 1 root root  4096 Oct 24 14:29 ..\n",
            "drwxr-xr-x 4 root root  4096 Oct 22 13:38 .config\n",
            "drwx------ 5 root root  4096 Oct 24 14:21 drive\n",
            "drwxr-xr-x 2 root root  4096 Oct 24 14:54 __pycache__\n",
            "drwxr-xr-x 3 root root  4096 Oct 24 14:39 .pytest_cache\n",
            "-rw-r--r-- 1 root root 33570 Oct 24 14:55 report.html\n",
            "drwxr-xr-x 1 root root  4096 Oct 22 13:39 sample_data\n",
            "-rw-r--r-- 1 root root  2348 Oct 24 14:53 test_login.py\n",
            "Download report.html:\n"
          ]
        },
        {
          "output_type": "display_data",
          "data": {
            "text/plain": [
              "<IPython.core.display.Javascript object>"
            ],
            "application/javascript": [
              "\n",
              "    async function download(id, filename, size) {\n",
              "      if (!google.colab.kernel.accessAllowed) {\n",
              "        return;\n",
              "      }\n",
              "      const div = document.createElement('div');\n",
              "      const label = document.createElement('label');\n",
              "      label.textContent = `Downloading \"${filename}\": `;\n",
              "      div.appendChild(label);\n",
              "      const progress = document.createElement('progress');\n",
              "      progress.max = size;\n",
              "      div.appendChild(progress);\n",
              "      document.body.appendChild(div);\n",
              "\n",
              "      const buffers = [];\n",
              "      let downloaded = 0;\n",
              "\n",
              "      const channel = await google.colab.kernel.comms.open(id);\n",
              "      // Send a message to notify the kernel that we're ready.\n",
              "      channel.send({})\n",
              "\n",
              "      for await (const message of channel.messages) {\n",
              "        // Send a message to notify the kernel that we're ready.\n",
              "        channel.send({})\n",
              "        if (message.buffers) {\n",
              "          for (const buffer of message.buffers) {\n",
              "            buffers.push(buffer);\n",
              "            downloaded += buffer.byteLength;\n",
              "            progress.value = downloaded;\n",
              "          }\n",
              "        }\n",
              "      }\n",
              "      const blob = new Blob(buffers, {type: 'application/binary'});\n",
              "      const a = document.createElement('a');\n",
              "      a.href = window.URL.createObjectURL(blob);\n",
              "      a.download = filename;\n",
              "      div.appendChild(a);\n",
              "      a.click();\n",
              "      div.remove();\n",
              "    }\n",
              "  "
            ]
          },
          "metadata": {}
        },
        {
          "output_type": "display_data",
          "data": {
            "text/plain": [
              "<IPython.core.display.Javascript object>"
            ],
            "application/javascript": [
              "download(\"download_4700dfec-05e0-4903-8291-352dbf372090\", \"report.html\", 33570)"
            ]
          },
          "metadata": {}
        }
      ]
    },
    {
      "cell_type": "code",
      "source": [
        "from google.colab import files\n",
        "files.download(\"report.html\")\n",
        "files.download(\"results.json\")\n"
      ],
      "metadata": {
        "colab": {
          "base_uri": "https://localhost:8080/",
          "height": 17
        },
        "id": "BN43ncqAwahD",
        "outputId": "4bca6c45-dc2b-4c0e-d7ab-0a1abae6fc0e"
      },
      "execution_count": 26,
      "outputs": [
        {
          "output_type": "display_data",
          "data": {
            "text/plain": [
              "<IPython.core.display.Javascript object>"
            ],
            "application/javascript": [
              "\n",
              "    async function download(id, filename, size) {\n",
              "      if (!google.colab.kernel.accessAllowed) {\n",
              "        return;\n",
              "      }\n",
              "      const div = document.createElement('div');\n",
              "      const label = document.createElement('label');\n",
              "      label.textContent = `Downloading \"${filename}\": `;\n",
              "      div.appendChild(label);\n",
              "      const progress = document.createElement('progress');\n",
              "      progress.max = size;\n",
              "      div.appendChild(progress);\n",
              "      document.body.appendChild(div);\n",
              "\n",
              "      const buffers = [];\n",
              "      let downloaded = 0;\n",
              "\n",
              "      const channel = await google.colab.kernel.comms.open(id);\n",
              "      // Send a message to notify the kernel that we're ready.\n",
              "      channel.send({})\n",
              "\n",
              "      for await (const message of channel.messages) {\n",
              "        // Send a message to notify the kernel that we're ready.\n",
              "        channel.send({})\n",
              "        if (message.buffers) {\n",
              "          for (const buffer of message.buffers) {\n",
              "            buffers.push(buffer);\n",
              "            downloaded += buffer.byteLength;\n",
              "            progress.value = downloaded;\n",
              "          }\n",
              "        }\n",
              "      }\n",
              "      const blob = new Blob(buffers, {type: 'application/binary'});\n",
              "      const a = document.createElement('a');\n",
              "      a.href = window.URL.createObjectURL(blob);\n",
              "      a.download = filename;\n",
              "      div.appendChild(a);\n",
              "      a.click();\n",
              "      div.remove();\n",
              "    }\n",
              "  "
            ]
          },
          "metadata": {}
        },
        {
          "output_type": "display_data",
          "data": {
            "text/plain": [
              "<IPython.core.display.Javascript object>"
            ],
            "application/javascript": [
              "download(\"download_694a2126-6ec6-4d6c-aa63-7f1f3ffb70d4\", \"report.html\", 32594)"
            ]
          },
          "metadata": {}
        },
        {
          "output_type": "display_data",
          "data": {
            "text/plain": [
              "<IPython.core.display.Javascript object>"
            ],
            "application/javascript": [
              "\n",
              "    async function download(id, filename, size) {\n",
              "      if (!google.colab.kernel.accessAllowed) {\n",
              "        return;\n",
              "      }\n",
              "      const div = document.createElement('div');\n",
              "      const label = document.createElement('label');\n",
              "      label.textContent = `Downloading \"${filename}\": `;\n",
              "      div.appendChild(label);\n",
              "      const progress = document.createElement('progress');\n",
              "      progress.max = size;\n",
              "      div.appendChild(progress);\n",
              "      document.body.appendChild(div);\n",
              "\n",
              "      const buffers = [];\n",
              "      let downloaded = 0;\n",
              "\n",
              "      const channel = await google.colab.kernel.comms.open(id);\n",
              "      // Send a message to notify the kernel that we're ready.\n",
              "      channel.send({})\n",
              "\n",
              "      for await (const message of channel.messages) {\n",
              "        // Send a message to notify the kernel that we're ready.\n",
              "        channel.send({})\n",
              "        if (message.buffers) {\n",
              "          for (const buffer of message.buffers) {\n",
              "            buffers.push(buffer);\n",
              "            downloaded += buffer.byteLength;\n",
              "            progress.value = downloaded;\n",
              "          }\n",
              "        }\n",
              "      }\n",
              "      const blob = new Blob(buffers, {type: 'application/binary'});\n",
              "      const a = document.createElement('a');\n",
              "      a.href = window.URL.createObjectURL(blob);\n",
              "      a.download = filename;\n",
              "      div.appendChild(a);\n",
              "      a.click();\n",
              "      div.remove();\n",
              "    }\n",
              "  "
            ]
          },
          "metadata": {}
        },
        {
          "output_type": "display_data",
          "data": {
            "text/plain": [
              "<IPython.core.display.Javascript object>"
            ],
            "application/javascript": [
              "download(\"download_36457553-cc4b-4005-a7d9-bd7c335a9d34\", \"results.json\", 2798)"
            ]
          },
          "metadata": {}
        }
      ]
    },
    {
      "cell_type": "code",
      "source": [
        "plt.bar(labels, values, color=['green','red','orange'])\n",
        "plt.title(\"Automated Test Results Summary\")\n",
        "plt.xlabel(\"Test Status\")\n",
        "plt.ylabel(\"Number of Tests\")\n",
        "plt.show()\n"
      ],
      "metadata": {
        "colab": {
          "base_uri": "https://localhost:8080/",
          "height": 472
        },
        "id": "bqiT2kdOxNhz",
        "outputId": "1d6d0c01-ea9d-4fa2-abd3-02712d26c2a1"
      },
      "execution_count": 29,
      "outputs": [
        {
          "output_type": "display_data",
          "data": {
            "text/plain": [
              "<Figure size 640x480 with 1 Axes>"
            ],
            "image/png": "[encoded data removed]"
          },
          "metadata": {}
        }
      ]
    }
  ]
}